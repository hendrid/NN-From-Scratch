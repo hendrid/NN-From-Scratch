{
  "cells": [
    {
      "cell_type": "code",
      "source": [
        "import tensorflow as tf"
      ],
      "metadata": {
        "id": "0gXMQezfTmIR"
      },
      "execution_count": 1,
      "outputs": []
    },
    {
      "cell_type": "code",
      "source": [
        "model = tf.keras.models.Sequential()\n",
        "model.add(tf.keras.layers.Conv2DTranspose(\n",
        "    1,\n",
        "    (3, 3),\n",
        "    strides=(2, 2),\n",
        "    output_padding=(1, 1),\n",
        "    input_shape=(2, 2, 1)\n",
        "))\n",
        "model.summary()"
      ],
      "metadata": {
        "id": "InRcAzEATn7l",
        "outputId": "199a2966-c632-4315-be15-0957f594ba44",
        "colab": {
          "base_uri": "https://localhost:8080/"
        }
      },
      "execution_count": 32,
      "outputs": [
        {
          "output_type": "stream",
          "name": "stdout",
          "text": [
            "Model: \"sequential_7\"\n",
            "_________________________________________________________________\n",
            " Layer (type)                Output Shape              Param #   \n",
            "=================================================================\n",
            " conv2d_transpose_11 (Conv2D  (None, 6, 6, 1)          10        \n",
            " Transpose)                                                      \n",
            "                                                                 \n",
            "=================================================================\n",
            "Total params: 10\n",
            "Trainable params: 10\n",
            "Non-trainable params: 0\n",
            "_________________________________________________________________\n"
          ]
        }
      ]
    },
    {
      "cell_type": "code",
      "source": [
        "layer = model.layers[0]\n",
        "current_w, current_bias = layer.get_weights()  # see the current weights\n",
        "current_w.shape"
      ],
      "metadata": {
        "id": "GxtI9FrqW1aB",
        "outputId": "2f5666f5-bc8a-4766-d2aa-02d30989b20d",
        "colab": {
          "base_uri": "https://localhost:8080/"
        }
      },
      "execution_count": 33,
      "outputs": [
        {
          "output_type": "execute_result",
          "data": {
            "text/plain": [
              "(3, 3, 1, 1)"
            ]
          },
          "metadata": {},
          "execution_count": 33
        }
      ]
    },
    {
      "cell_type": "code",
      "source": [
        "new_w = tf.constant([[1, 0, 1],\n",
        "                     [0, 0, 0],\n",
        "                     [1, 0, 1]])\n",
        "new_w = tf.reshape(new_w, current_w.shape)  # fix the shape"
      ],
      "metadata": {
        "id": "eipn6RvwW5Io"
      },
      "execution_count": 34,
      "outputs": []
    },
    {
      "cell_type": "code",
      "source": [
        "new_bias = tf.constant([0])\n",
        "layer.set_weights([new_w, new_bias])"
      ],
      "metadata": {
        "id": "mL342NbSXTOa"
      },
      "execution_count": 43,
      "outputs": []
    },
    {
      "cell_type": "code",
      "source": [
        "model.summary()\n",
        "tf.print(model.layers[0].get_weights())"
      ],
      "metadata": {
        "id": "-NYgcDxuXcf4",
        "outputId": "73b96c8f-db81-4789-a8a2-e6171036bbae",
        "colab": {
          "base_uri": "https://localhost:8080/"
        }
      },
      "execution_count": 44,
      "outputs": [
        {
          "output_type": "stream",
          "name": "stdout",
          "text": [
            "Model: \"sequential_7\"\n",
            "_________________________________________________________________\n",
            " Layer (type)                Output Shape              Param #   \n",
            "=================================================================\n",
            " conv2d_transpose_11 (Conv2D  (None, 6, 6, 1)          10        \n",
            " Transpose)                                                      \n",
            "                                                                 \n",
            "=================================================================\n",
            "Total params: 10\n",
            "Trainable params: 10\n",
            "Non-trainable params: 0\n",
            "_________________________________________________________________\n",
            "[array([[[[1.]],\n",
            "\n",
            "        [[0.]],\n",
            "\n",
            "        [[1.]]],\n",
            "\n",
            "\n",
            "       [[[0.]],\n",
            "\n",
            "        [[0.]],\n",
            "\n",
            "        [[0.]]],\n",
            "\n",
            "\n",
            "       [[[1.]],\n",
            "\n",
            "        [[0.]],\n",
            "\n",
            "        [[1.]]]], dtype=float32),\n",
            " array([0.], dtype=float32)]\n"
          ]
        }
      ]
    },
    {
      "cell_type": "code",
      "source": [
        "import numpy as np\n",
        "X = np.asarray([[1, 3],\n",
        "                [2, 4]])\n",
        "# show input data for context\n",
        "print(X)\n",
        "# reshape input data into one sample a sample with a channel\n",
        "X = X.reshape((1, 2, 2, 1))\n",
        "model.predict(X)"
      ],
      "metadata": {
        "id": "hQMGya5-UsxD",
        "outputId": "3ddd5863-963e-4295-d7e5-2ebcc70509c7",
        "colab": {
          "base_uri": "https://localhost:8080/"
        }
      },
      "execution_count": 45,
      "outputs": [
        {
          "output_type": "stream",
          "name": "stdout",
          "text": [
            "[[1 3]\n",
            " [2 4]]\n"
          ]
        },
        {
          "output_type": "execute_result",
          "data": {
            "text/plain": [
              "array([[[[ 1.],\n",
              "         [ 0.],\n",
              "         [ 4.],\n",
              "         [ 0.],\n",
              "         [ 3.],\n",
              "         [ 0.]],\n",
              "\n",
              "        [[ 0.],\n",
              "         [ 0.],\n",
              "         [ 0.],\n",
              "         [ 0.],\n",
              "         [ 0.],\n",
              "         [ 0.]],\n",
              "\n",
              "        [[ 3.],\n",
              "         [ 0.],\n",
              "         [10.],\n",
              "         [ 0.],\n",
              "         [ 7.],\n",
              "         [ 0.]],\n",
              "\n",
              "        [[ 0.],\n",
              "         [ 0.],\n",
              "         [ 0.],\n",
              "         [ 0.],\n",
              "         [ 0.],\n",
              "         [ 0.]],\n",
              "\n",
              "        [[ 2.],\n",
              "         [ 0.],\n",
              "         [ 6.],\n",
              "         [ 0.],\n",
              "         [ 4.],\n",
              "         [ 0.]],\n",
              "\n",
              "        [[ 0.],\n",
              "         [ 0.],\n",
              "         [ 0.],\n",
              "         [ 0.],\n",
              "         [ 0.],\n",
              "         [ 0.]]]], dtype=float32)"
            ]
          },
          "metadata": {},
          "execution_count": 45
        }
      ]
    }
  ],
  "metadata": {
    "colab": {
      "collapsed_sections": [],
      "name": "Welcome To Colaboratory",
      "provenance": []
    },
    "kernelspec": {
      "display_name": "Python 3",
      "name": "python3"
    }
  },
  "nbformat": 4,
  "nbformat_minor": 0
}